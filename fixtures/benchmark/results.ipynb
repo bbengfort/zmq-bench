{
 "cells": [
  {
   "cell_type": "markdown",
   "metadata": {},
   "source": [
    "# ZMQ Throughput \n",
    "\n",
    "This notebook displays the results for ZMQ throughput testing. \n",
    "\n",
    "Currently this notebook explores throughput for the REQ/REP Network. "
   ]
  },
  {
   "cell_type": "code",
   "execution_count": 24,
   "metadata": {
    "collapsed": true
   },
   "outputs": [],
   "source": [
    "import os \n",
    "import json \n",
    "\n",
    "import pandas as pd\n",
    "import seaborn as sns \n",
    "import matplotlib as mpl \n",
    "import matplotlib.pyplot as plt\n",
    "\n",
    "%matplotlib inline \n",
    "sns.set_style('whitegrid')\n",
    "sns.set_context('notebook')\n",
    "mpl.rcParams['figure.figsize'] = (12,8)"
   ]
  },
  {
   "cell_type": "code",
   "execution_count": 2,
   "metadata": {
    "collapsed": true
   },
   "outputs": [],
   "source": [
    "def load_results(path):\n",
    "    with open(path, 'r') as f:\n",
    "        for line in f:\n",
    "            yield json.loads(line)\n",
    "\n",
    "\n",
    "def load_multi_results(path=\"results\", **extra):\n",
    "    for name in os.listdir(path):\n",
    "        fpath = os.path.join(path, name, \"results.json\")\n",
    "        for result in load_results(fpath):\n",
    "            result.update(extra)\n",
    "            result['host'] = name \n",
    "            yield result"
   ]
  },
  {
   "cell_type": "markdown",
   "metadata": {},
   "source": [
    "## Single Host Throughput \n",
    "\n",
    "This experiment measures the throughput such that all processes, client and server are on a single machine. The network consists of **3 server processes** and a variable number of client processes. Clients send a message to a single server, which broadcasts the message to the other two servers, when it receives two responses, it responds to the client. The latency is measured at the client, and the server throughput is computed as the sum of messages divided by the sum of the latency. "
   ]
  },
  {
   "cell_type": "code",
   "execution_count": 3,
   "metadata": {},
   "outputs": [
    {
     "data": {
      "text/html": [
       "<div>\n",
       "<table border=\"1\" class=\"dataframe\">\n",
       "  <thead>\n",
       "    <tr style=\"text-align: right;\">\n",
       "      <th></th>\n",
       "      <th>host</th>\n",
       "      <th>latency (nsec)</th>\n",
       "      <th>messages</th>\n",
       "      <th>n_clients</th>\n",
       "      <th>name</th>\n",
       "      <th>throughput (msg/sec)</th>\n",
       "    </tr>\n",
       "  </thead>\n",
       "  <tbody>\n",
       "    <tr>\n",
       "      <th>0</th>\n",
       "      <td>hyperion.cs.umd.edu</td>\n",
       "      <td>28525982905</td>\n",
       "      <td>96281</td>\n",
       "      <td>3</td>\n",
       "      <td>hyperion40</td>\n",
       "      <td>3375.203593</td>\n",
       "    </tr>\n",
       "    <tr>\n",
       "      <th>1</th>\n",
       "      <td>hyperion.cs.umd.edu</td>\n",
       "      <td>28526036214</td>\n",
       "      <td>96258</td>\n",
       "      <td>3</td>\n",
       "      <td>hyperion40</td>\n",
       "      <td>3374.391005</td>\n",
       "    </tr>\n",
       "    <tr>\n",
       "      <th>2</th>\n",
       "      <td>hyperion.cs.umd.edu</td>\n",
       "      <td>28525280000</td>\n",
       "      <td>96288</td>\n",
       "      <td>3</td>\n",
       "      <td>hyperion40</td>\n",
       "      <td>3375.532160</td>\n",
       "    </tr>\n",
       "    <tr>\n",
       "      <th>3</th>\n",
       "      <td>hyperion.cs.umd.edu</td>\n",
       "      <td>27441805677</td>\n",
       "      <td>200621</td>\n",
       "      <td>1</td>\n",
       "      <td>hyperion40</td>\n",
       "      <td>7310.779850</td>\n",
       "    </tr>\n",
       "    <tr>\n",
       "      <th>4</th>\n",
       "      <td>hyperion.cs.umd.edu</td>\n",
       "      <td>27803790588</td>\n",
       "      <td>143889</td>\n",
       "      <td>2</td>\n",
       "      <td>hyperion40</td>\n",
       "      <td>5175.157666</td>\n",
       "    </tr>\n",
       "  </tbody>\n",
       "</table>\n",
       "</div>"
      ],
      "text/plain": [
       "                  host  latency (nsec)  messages  n_clients        name  \\\n",
       "0  hyperion.cs.umd.edu     28525982905     96281          3  hyperion40   \n",
       "1  hyperion.cs.umd.edu     28526036214     96258          3  hyperion40   \n",
       "2  hyperion.cs.umd.edu     28525280000     96288          3  hyperion40   \n",
       "3  hyperion.cs.umd.edu     27441805677    200621          1  hyperion40   \n",
       "4  hyperion.cs.umd.edu     27803790588    143889          2  hyperion40   \n",
       "\n",
       "   throughput (msg/sec)  \n",
       "0           3375.203593  \n",
       "1           3374.391005  \n",
       "2           3375.532160  \n",
       "3           7310.779850  \n",
       "4           5175.157666  "
      ]
     },
     "execution_count": 3,
     "metadata": {},
     "output_type": "execute_result"
    }
   ],
   "source": [
    "shdf = pd.DataFrame(load_multi_results())\n",
    "shdf.head()"
   ]
  },
  {
   "cell_type": "code",
   "execution_count": 19,
   "metadata": {},
   "outputs": [],
   "source": [
    "shdf = shdf.groupby(['n_clients', 'host']).sum().reset_index()"
   ]
  },
  {
   "cell_type": "code",
   "execution_count": 26,
   "metadata": {},
   "outputs": [
    {
     "data": {
      "image/png": "[encoded data removed]",
      "text/plain": [
       "<matplotlib.figure.Figure at 0x111702f98>"
      ]
     },
     "metadata": {},
     "output_type": "display_data"
    }
   ],
   "source": [
    "g = sns.barplot(\n",
    "    x='n_clients', y='throughput (msg/sec)', hue='host', palette='muted', data=shdf,\n",
    ")\n",
    "\n",
    "g.set_title(\"Single Host: 3 Replicas (Local Network)\")\n",
    "g.set_ylabel(\"total throughput for all clients (msg/sec)\")\n",
    "g.set_xlabel(\"number of concurrent clients\")\n",
    "\n",
    "plt.savefig(\"singlehost-3replicas-localnetwork.pdf\")"
   ]
  }
 ],
 "metadata": {
  "kernelspec": {
   "display_name": "Python 3",
   "language": "python",
   "name": "python3"
  },
  "language_info": {
   "codemirror_mode": {
    "name": "ipython",
    "version": 3
   },
   "file_extension": ".py",
   "mimetype": "text/x-python",
   "name": "python",
   "nbconvert_exporter": "python",
   "pygments_lexer": "ipython3",
   "version": "3.6.1"
  }
 },
 "nbformat": 4,
 "nbformat_minor": 2
}
